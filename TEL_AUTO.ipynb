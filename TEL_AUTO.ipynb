{
 "cells": [
  {
   "cell_type": "code",
   "execution_count": 5,
   "id": "d79aa2f3-0a52-47f8-88fa-76e40dafd05d",
   "metadata": {
    "tags": []
   },
   "outputs": [
    {
     "name": "stdout",
     "output_type": "stream",
     "text": [
      "Roll: 80.0\n",
      "Pitch: 15.000000000000002\n",
      "Yaw: 0.0\n"
     ]
    }
   ],
   "source": [
    "import numpy as np\n",
    "\n",
    "def alt_az_to_euler(altitude, azimuth):\n",
    "    # Convert degrees to radians\n",
    "    alt_rad = np.deg2rad(altitude)\n",
    "    az_rad = np.deg2rad(azimuth)\n",
    "    \n",
    "    # ZYX Euler angle sequence\n",
    "    roll = 0  # Since we don't have a roll angle in Alt-Az coordinates\n",
    "    pitch = alt_rad\n",
    "    yaw = az_rad\n",
    "    \n",
    "    # Convert Euler angles to rotation matrix\n",
    "    R_x = np.array([[1, 0, 0],\n",
    "                    [0, np.cos(roll), -np.sin(roll)],\n",
    "                    [0, np.sin(roll), np.cos(roll)]])\n",
    "    \n",
    "    R_y = np.array([[np.cos(pitch), 0, np.sin(pitch)],\n",
    "                    [0, 1, 0],\n",
    "                    [-np.sin(pitch), 0, np.cos(pitch)]])\n",
    "    \n",
    "    R_z = np.array([[np.cos(yaw), -np.sin(yaw), 0],\n",
    "                    [np.sin(yaw), np.cos(yaw), 0],\n",
    "                    [0, 0, 1]])\n",
    "    \n",
    "    # Combined rotation matrix\n",
    "    R = np.dot(R_z, np.dot(R_y, R_x))\n",
    "    \n",
    "    # Convert rotation matrix to Euler angles\n",
    "    # yaw = atan2(R[1,0], R[0,0])\n",
    "    # pitch = atan2(-R[2,0], sqrt(R[2,1]^2 + R[2,2]^2))\n",
    "    # roll = atan2(R[2,1], R[2,2])\n",
    "    pitch = np.arctan2(-R[2, 0], np.sqrt(R[0, 0] ** 2 + R[1, 0] ** 2))\n",
    "    roll = np.arctan2(R[1, 0], R[0, 0])\n",
    "    yaw = np.arctan2(R[2, 1], R[2, 2])\n",
    "    \n",
    "    # Convert radians to degrees\n",
    "    pitch_deg = np.rad2deg(pitch)\n",
    "    roll_deg = np.rad2deg(roll)\n",
    "    yaw_deg = np.rad2deg(yaw)\n",
    "    \n",
    "    return roll_deg, pitch_deg, yaw_deg\n",
    "\n",
    "# Example usage\n",
    "altitude = 15  # Altitude angle in degrees\n",
    "azimuth = 80  # Azimuth angle in degrees\n",
    "\n",
    "roll, pitch, yaw = alt_az_to_euler(altitude, azimuth)\n",
    "print(\"Roll:\", roll)\n",
    "print(\"Pitch:\", pitch)\n",
    "print(\"Yaw:\", yaw)\n"
   ]
  },
  {
   "cell_type": "code",
   "execution_count": 6,
   "id": "8cb3d4e2-5bd2-420b-a2a4-f3a575cec74b",
   "metadata": {
    "tags": []
   },
   "outputs": [
    {
     "name": "stdout",
     "output_type": "stream",
     "text": [
      "Degrees: 42.4625\n"
     ]
    }
   ],
   "source": [
    "def hms_to_deg(hours, minutes, seconds):\n",
    "    # Convert hours, minutes, and seconds to degrees\n",
    "    total_hours = hours + minutes / 60 + seconds / 3600\n",
    "    degrees = total_hours * 15\n",
    "    return degrees\n",
    "\n",
    "# Example usage\n",
    "hours = 2\n",
    "minutes = 49\n",
    "seconds = 51\n",
    "\n",
    "degrees = hms_to_deg(hours, minutes, seconds)\n",
    "print(\"Degrees:\", degrees)\n"
   ]
  },
  {
   "cell_type": "code",
   "execution_count": null,
   "id": "f95dda69-1c94-4a98-9906-5ca98393f063",
   "metadata": {},
   "outputs": [],
   "source": []
  },
  {
   "cell_type": "code",
   "execution_count": 10,
   "id": "21fa6c61-ec2b-4974-81c9-a359cfed9386",
   "metadata": {
    "tags": []
   },
   "outputs": [],
   "source": [
    "lat = 17.38\n",
    "long = 78.48"
   ]
  },
  {
   "cell_type": "code",
   "execution_count": 28,
   "id": "cef16257-b4fa-47b9-ada1-363d8c9b384d",
   "metadata": {
    "tags": []
   },
   "outputs": [
    {
     "name": "stdout",
     "output_type": "stream",
     "text": [
      "<class 'str'>\n",
      "Altitude: 49.323009308954084 degrees, Azimuth: 86.25376728612702 degrees\n",
      "Altitude: 49.323009308954084 degrees, Azimuth: 86.25376728612702 degrees\n",
      "Altitude: 49.323009308954084 degrees, Azimuth: 86.25376728612702 degrees\n",
      "Altitude: 49.323009308954084 degrees, Azimuth: 86.25376728612702 degrees\n",
      "Altitude: 49.323009308954084 degrees, Azimuth: 86.25376728612702 degrees\n",
      "Altitude: 49.323009308954084 degrees, Azimuth: 86.25376728612702 degrees\n",
      "Altitude: 49.323009308954084 degrees, Azimuth: 86.25376728612702 degrees\n",
      "Altitude: 49.323009308954084 degrees, Azimuth: 86.25376728612702 degrees\n",
      "Altitude: 49.323009308954084 degrees, Azimuth: 86.25376728612702 degrees\n",
      "Tracking stopped.\n"
     ]
    }
   ],
   "source": [
    "from skyfield.api import Topos, load\n",
    "from datetime import datetime\n",
    "import pytz\n",
    "import time\n",
    "\n",
    "def get_planet_position(planet_name, observer_latitude, observer_longitude, t):\n",
    "    # Load the ephemeris\n",
    "    planets = load('de421.bsp')\n",
    "    \n",
    "    earth,_ = planets['earth'], planets[planet_name]\n",
    "\n",
    "    # Set observer's location\n",
    "    observer = earth + Topos(latitude_degrees=observer_latitude, longitude_degrees=observer_longitude)\n",
    "\n",
    "    # Compute position\n",
    "    astrometric = observer.at(t).observe(_)\n",
    "    alt, az, _ = astrometric.apparent().altaz()\n",
    "\n",
    "    # Return altitude and azimuth\n",
    "    return alt.degrees, az.degrees\n",
    "\n",
    "# Example observer's location (replace with your actual coordinates)\n",
    "observer_latitude = lat  # Latitude of New Delhi\n",
    "observer_longitude = long  # Longitude of New Delhi\n",
    "\n",
    "# Example planet to track\n",
    "planet_name = \"Jupiter Barycenter\"\n",
    "\n",
    "# Get current time in IST\n",
    "'''\n",
    "ist = pytz.timezone('Asia/Kolkata')\n",
    "now = datetime.now(ist)\n",
    "'''\n",
    "\n",
    "# Create a Time object using Skyfield's timescale\n",
    "ts = load.timescale()\n",
    "user_time = input(\"Enter the time in YYYY-MM-DD HH:MM:SS format (IST): \")\n",
    "\n",
    "ist = pytz.timezone('Asia/Kolkata')\n",
    "now = datetime.strptime(user_time, \"%Y-%m-%d %H:%M:%S\")\n",
    "try:\n",
    "    while True:\n",
    "        # Get current position of the planet\n",
    "        user_time = user_time[:17]+ user_time[17]+  \n",
    "        ist = pytz.timezone('Asia/Kolkata')\n",
    "        now = datetime.strptime(user_time, \"%Y-%m-%d %H:%M:%S\")\n",
    "        now = ist.localize(now)\n",
    "        altitude, azimuth = get_planet_position(planet_name, observer_latitude, observer_longitude, ts.utc(now))\n",
    "\n",
    "        # Output the current position\n",
    "        print(f\"Altitude: {altitude} degrees, Azimuth: {azimuth} degrees\")\n",
    "\n",
    "        # Update every 1 second\n",
    "        time.sleep(1)\n",
    "\n",
    "except KeyboardInterrupt:\n",
    "    print(\"Tracking stopped.\")\n"
   ]
  },
  {
   "cell_type": "markdown",
   "id": "66ddc68b-dc8b-44d2-8631-33a9b6c9615e",
   "metadata": {},
   "source": [
    "alt_az_to_euler(altitude,azimuth)"
   ]
  },
  {
   "cell_type": "code",
   "execution_count": 20,
   "id": "0c88944e-fe6d-448a-8d5d-37df4e3098fd",
   "metadata": {
    "tags": []
   },
   "outputs": [
    {
     "data": {
      "text/plain": [
       "(-63.44017535419877, -24.087157826661947, 0.0)"
      ]
     },
     "execution_count": 20,
     "metadata": {},
     "output_type": "execute_result"
    }
   ],
   "source": [
    "alt_az_to_euler(altitude,azimuth)"
   ]
  },
  {
   "cell_type": "code",
   "execution_count": null,
   "id": "fc47f482-4635-47f9-8235-6f026c4b19b2",
   "metadata": {},
   "outputs": [],
   "source": []
  }
 ],
 "metadata": {
  "kernelspec": {
   "display_name": "tf_gpu",
   "language": "python",
   "name": "tf_gpu"
  },
  "language_info": {
   "codemirror_mode": {
    "name": "ipython",
    "version": 3
   },
   "file_extension": ".py",
   "mimetype": "text/x-python",
   "name": "python",
   "nbconvert_exporter": "python",
   "pygments_lexer": "ipython3",
   "version": "3.9.18"
  }
 },
 "nbformat": 4,
 "nbformat_minor": 5
}
